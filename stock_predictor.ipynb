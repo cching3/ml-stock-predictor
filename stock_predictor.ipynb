{
 "cells": [
  {
   "cell_type": "markdown",
   "metadata": {},
   "source": [
    "# ML Stock Predictor\n",
    "\n",
    "A machine learning model to predict stock prices using historical data."
   ]
  },
  {
   "cell_type": "code",
   "execution_count": 31,
   "metadata": {},
   "outputs": [],
   "source": [
    "# Upgrade yfinance if needed\n",
    "import subprocess\n",
    "import sys\n",
    "\n",
    "try:\n",
    "    import yfinance as yf\n",
    "    if yf.__version__ < '0.2.40':\n",
    "        subprocess.check_call([sys.executable, '-m', 'pip', 'install', '--upgrade', 'yfinance'])\n",
    "        print('Upgraded yfinance. Please restart kernel.')\n",
    "except:\n",
    "    subprocess.check_call([sys.executable, '-m', 'pip', 'install', 'yfinance'])\n",
    "    print('Installed yfinance. Please restart kernel.')"
   ]
  },
  {
   "cell_type": "code",
   "execution_count": 32,
   "metadata": {},
   "outputs": [
    {
     "name": "stdout",
     "output_type": "stream",
     "text": [
      "yfinance version: 0.2.65\n"
     ]
    }
   ],
   "source": [
    "# Essential imports\n",
    "import pandas as pd\n",
    "import numpy as np\n",
    "import yfinance as yf\n",
    "from sklearn.model_selection import train_test_split\n",
    "from sklearn.ensemble import RandomForestRegressor\n",
    "from sklearn.metrics import mean_squared_error, r2_score\n",
    "import matplotlib.pyplot as plt\n",
    "import warnings\n",
    "warnings.filterwarnings('ignore')\n",
    "print(f'yfinance version: {yf.__version__}')"
   ]
  },
  {
   "cell_type": "code",
   "execution_count": 33,
   "metadata": {},
   "outputs": [],
   "source": [
    "# Configuration\n",
    "STOCK_SYMBOL = 'AAPL'\n",
    "PERIOD = '5d'  # Use shorter period that works"
   ]
  },
  {
   "cell_type": "code",
   "execution_count": 34,
   "metadata": {},
   "outputs": [
    {
     "name": "stdout",
     "output_type": "stream",
     "text": [
      "Data shape: (251, 5)\n"
     ]
    },
    {
     "data": {
      "text/html": [
       "<div>\n",
       "<style scoped>\n",
       "    .dataframe tbody tr th:only-of-type {\n",
       "        vertical-align: middle;\n",
       "    }\n",
       "\n",
       "    .dataframe tbody tr th {\n",
       "        vertical-align: top;\n",
       "    }\n",
       "\n",
       "    .dataframe thead tr th {\n",
       "        text-align: left;\n",
       "    }\n",
       "\n",
       "    .dataframe thead tr:last-of-type th {\n",
       "        text-align: right;\n",
       "    }\n",
       "</style>\n",
       "<table border=\"1\" class=\"dataframe\">\n",
       "  <thead>\n",
       "    <tr>\n",
       "      <th>Price</th>\n",
       "      <th>Close</th>\n",
       "      <th>High</th>\n",
       "      <th>Low</th>\n",
       "      <th>Open</th>\n",
       "      <th>Volume</th>\n",
       "    </tr>\n",
       "    <tr>\n",
       "      <th>Ticker</th>\n",
       "      <th>AAPL</th>\n",
       "      <th>AAPL</th>\n",
       "      <th>AAPL</th>\n",
       "      <th>AAPL</th>\n",
       "      <th>AAPL</th>\n",
       "    </tr>\n",
       "    <tr>\n",
       "      <th>Date</th>\n",
       "      <th></th>\n",
       "      <th></th>\n",
       "      <th></th>\n",
       "      <th></th>\n",
       "      <th></th>\n",
       "    </tr>\n",
       "  </thead>\n",
       "  <tbody>\n",
       "    <tr>\n",
       "      <th>2024-08-29</th>\n",
       "      <td>228.725494</td>\n",
       "      <td>231.841000</td>\n",
       "      <td>227.819721</td>\n",
       "      <td>229.034071</td>\n",
       "      <td>51906300</td>\n",
       "    </tr>\n",
       "    <tr>\n",
       "      <th>2024-08-30</th>\n",
       "      <td>227.939163</td>\n",
       "      <td>229.332672</td>\n",
       "      <td>226.426200</td>\n",
       "      <td>229.123653</td>\n",
       "      <td>52990800</td>\n",
       "    </tr>\n",
       "    <tr>\n",
       "      <th>2024-09-03</th>\n",
       "      <td>221.738037</td>\n",
       "      <td>227.939173</td>\n",
       "      <td>220.145443</td>\n",
       "      <td>227.491260</td>\n",
       "      <td>50190600</td>\n",
       "    </tr>\n",
       "    <tr>\n",
       "      <th>2024-09-04</th>\n",
       "      <td>219.826935</td>\n",
       "      <td>220.752619</td>\n",
       "      <td>216.472536</td>\n",
       "      <td>220.633180</td>\n",
       "      <td>43840200</td>\n",
       "    </tr>\n",
       "    <tr>\n",
       "      <th>2024-09-05</th>\n",
       "      <td>221.349838</td>\n",
       "      <td>224.435469</td>\n",
       "      <td>220.493822</td>\n",
       "      <td>220.603313</td>\n",
       "      <td>36615400</td>\n",
       "    </tr>\n",
       "  </tbody>\n",
       "</table>\n",
       "</div>"
      ],
      "text/plain": [
       "Price            Close        High         Low        Open    Volume\n",
       "Ticker            AAPL        AAPL        AAPL        AAPL      AAPL\n",
       "Date                                                                \n",
       "2024-08-29  228.725494  231.841000  227.819721  229.034071  51906300\n",
       "2024-08-30  227.939163  229.332672  226.426200  229.123653  52990800\n",
       "2024-09-03  221.738037  227.939173  220.145443  227.491260  50190600\n",
       "2024-09-04  219.826935  220.752619  216.472536  220.633180  43840200\n",
       "2024-09-05  221.349838  224.435469  220.493822  220.603313  36615400"
      ]
     },
     "execution_count": 34,
     "metadata": {},
     "output_type": "execute_result"
    }
   ],
   "source": [
    "# Load stock data\n",
    "data = yf.download(STOCK_SYMBOL, period='1y', progress=False)\n",
    "print(f'Data shape: {data.shape}')\n",
    "data.head()"
   ]
  },
  {
   "cell_type": "code",
   "execution_count": 35,
   "metadata": {},
   "outputs": [
    {
     "name": "stdout",
     "output_type": "stream",
     "text": [
      "Data after preprocessing: (249, 7)\n"
     ]
    }
   ],
   "source": [
    "# Simple feature engineering for small dataset\n",
    "data['Price_Change'] = data['Close'].pct_change()\n",
    "data['Target'] = data['Close'].shift(-1)\n",
    "data = data.dropna()\n",
    "print(f'Data after preprocessing: {data.shape}')"
   ]
  },
  {
   "cell_type": "code",
   "execution_count": 36,
   "metadata": {},
   "outputs": [
    {
     "name": "stdout",
     "output_type": "stream",
     "text": [
      "Predicted: 229.75\n",
      "Actual: 232.89\n"
     ]
    }
   ],
   "source": [
    "# Basic model with minimal features\n",
    "if len(data) > 2:\n",
    "    features = ['Open', 'High', 'Low', 'Close', 'Volume', 'Price_Change']\n",
    "    X = data[features]\n",
    "    y = data['Target']\n",
    "    \n",
    "    model = RandomForestRegressor(n_estimators=10, random_state=42)\n",
    "    model.fit(X[:-1], y[:-1])  # Use all but last row\n",
    "    \n",
    "    prediction = model.predict(X[-1:])  # Predict last row\n",
    "    actual = y.iloc[-1]\n",
    "    \n",
    "    print(f'Predicted: {prediction[0]:.2f}')\n",
    "    print(f'Actual: {actual:.2f}')\n",
    "else:\n",
    "    print('Not enough data for prediction')"
   ]
  },
  {
   "cell_type": "code",
   "execution_count": 37,
   "metadata": {},
   "outputs": [
    {
     "data": {
      "image/png": "[encoded data removed]",
      "text/plain": [
       "<Figure size 1000x600 with 1 Axes>"
      ]
     },
     "metadata": {},
     "output_type": "display_data"
    },
    {
     "name": "stdout",
     "output_type": "stream",
     "text": [
      "        feature  importance\n",
      "3         Close    0.489341\n",
      "2           Low    0.301985\n",
      "1          High    0.114688\n",
      "0          Open    0.072905\n",
      "5  Price_Change    0.010767\n",
      "4        Volume    0.010313\n"
     ]
    }
   ],
   "source": [
    "# Feature importance visualization\n",
    "if len(data) > 2:\n",
    "    importance = pd.DataFrame({\n",
    "        'feature': features,\n",
    "        'importance': model.feature_importances_\n",
    "    }).sort_values('importance', ascending=False)\n",
    "    \n",
    "    plt.figure(figsize=(10, 6))\n",
    "    plt.barh(importance['feature'], importance['importance'])\n",
    "    plt.xlabel('Importance')\n",
    "    plt.title('Feature Importance')\n",
    "    plt.tight_layout()\n",
    "    plt.savefig('feature_importance.png', dpi=300, bbox_inches='tight')\n",
    "    plt.show()\n",
    "    print(importance)"
   ]
  }
 ],
 "metadata": {
  "kernelspec": {
   "display_name": "Python 3",
   "language": "python",
   "name": "python3"
  },
  "language_info": {
   "name": "python",
   "version": "3.9.0"
  }
 },
 "nbformat": 4,
 "nbformat_minor": 4
}
