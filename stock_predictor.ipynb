{
 "cells": [
  {
   "cell_type": "markdown",
   "metadata": {},
   "source": [
    "# ML Stock Predictor\n",
    "\n",
    "A machine learning model to predict stock prices using historical data."
   ]
  },
  {
   "cell_type": "code",
   "execution_count": null,
   "metadata": {},
   "outputs": [],
   "source": [
    "# Upgrade yfinance if needed\n",
    "import subprocess\n",
    "import sys\n",
    "\n",
    "try:\n",
    "    import yfinance as yf\n",
    "    if yf.__version__ < '0.2.40':\n",
    "        subprocess.check_call([sys.executable, '-m', 'pip', 'install', '--upgrade', 'yfinance'])\n",
    "        print('Upgraded yfinance. Please restart kernel.')\n",
    "except:\n",
    "    subprocess.check_call([sys.executable, '-m', 'pip', 'install', 'yfinance'])\n",
    "    print('Installed yfinance. Please restart kernel.')"
   ]
  },
  {
   "cell_type": "code",
   "execution_count": null,
   "metadata": {},
   "outputs": [],
   "source": [
    "# Essential imports\n",
    "import pandas as pd\n",
    "import numpy as np\n",
    "import yfinance as yf\n",
    "from sklearn.model_selection import train_test_split\n",
    "from sklearn.ensemble import RandomForestRegressor\n",
    "from sklearn.metrics import mean_squared_error, r2_score\n",
    "import matplotlib.pyplot as plt\n",
    "import warnings\n",
    "warnings.filterwarnings('ignore')\n",
    "print(f'yfinance version: {yf.__version__}')"
   ]
  },
  {
   "cell_type": "code",
   "execution_count": null,
   "metadata": {},
   "outputs": [],
   "source": [
    "# Configuration\n",
    "STOCK_SYMBOL = 'AAPL'\n",
    "PERIOD = '5d'  # Use shorter period that works"
   ]
  },
  {
   "cell_type": "code",
   "execution_count": null,
   "metadata": {},
   "outputs": [],
   "source": [
    "# Load stock data\n",
    "data = yf.download(STOCK_SYMBOL, period='1y', progress=False)\n",
    "print(f'Data shape: {data.shape}')\n",
    "data.head()"
   ]
  },
  {
   "cell_type": "code",
   "execution_count": null,
   "metadata": {},
   "outputs": [],
   "source": [
    "# Simple feature engineering for small dataset\n",
    "data['Price_Change'] = data['Close'].pct_change()\n",
    "data['Target'] = data['Close'].shift(-1)\n",
    "data = data.dropna()\n",
    "print(f'Data after preprocessing: {data.shape}')"
   ]
  },
  {
   "cell_type": "code",
   "execution_count": null,
   "metadata": {},
   "outputs": [],
   "source": [
    "# Basic model with minimal features\n",
    "if len(data) > 2:\n",
    "    features = ['Open', 'High', 'Low', 'Close', 'Volume', 'Price_Change']\n",
    "    X = data[features]\n",
    "    y = data['Target']\n",
    "    \n",
    "    model = RandomForestRegressor(n_estimators=10, random_state=42)\n",
    "    model.fit(X[:-1], y[:-1])  # Use all but last row\n",
    "    \n",
    "    prediction = model.predict(X[-1:])  # Predict last row\n",
    "    actual = y.iloc[-1]\n",
    "    \n",
    "    print(f'Predicted: {prediction[0]:.2f}')\n",
    "    print(f'Actual: {actual:.2f}')\n",
    "else:\n",
    "    print('Not enough data for prediction')"
   ]
  }
 ],
 "metadata": {
  "kernelspec": {
   "display_name": "Python 3",
   "language": "python",
   "name": "python3"
  },
  "language_info": {
   "name": "python",
   "version": "3.9.0"
  }
 },
 "nbformat": 4,
 "nbformat_minor": 4
}